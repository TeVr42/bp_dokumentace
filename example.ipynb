{
 "cells": [
  {
   "cell_type": "markdown",
   "metadata": {},
   "source": [
    "### Přehled použití hybridního systému navrženého v rámci BP"
   ]
  },
  {
   "cell_type": "markdown",
   "metadata": {},
   "source": [
    "Následující řádky vás provedou otestováním funkcionality hybridního systému s použitím natrénovaných modelů.\n",
    "\n",
    "Nejprve proveďte potřebné **importy**:"
   ]
  },
  {
   "cell_type": "code",
   "execution_count": 1,
   "metadata": {},
   "outputs": [],
   "source": [
    "import sys\n",
    "sys.path.append('../')\n",
    "from classes.hybrid_system import HybridSystem_IPD17, HybridSystem_IPD35, HybridSystem_IPD14_IPD17, HybridSystem_IPD14_IPD17_IPD35, HybridSystem_ILD17, HybridSystem_ILD35, HybridSystem_ILD14_ILD17, HybridSystem_ILD14_ILD17_ILD35, HybridSystem_IPD17_ILD17\n",
    "import soundfile as sf\n",
    "import sounddevice as sd"
   ]
  },
  {
   "cell_type": "markdown",
   "metadata": {},
   "source": [
    "**Zvolte číslo** ukázkové nahrávky v rozsahu **0-9** a následně nahrávku načtěte:"
   ]
  },
  {
   "cell_type": "code",
   "execution_count": 2,
   "metadata": {},
   "outputs": [],
   "source": [
    "example_id = 3 # 0-9"
   ]
  },
  {
   "cell_type": "code",
   "execution_count": 3,
   "metadata": {},
   "outputs": [],
   "source": [
    "soi, fs_s = sf.read(f'./example_data/s{example_id}.wav')\n",
    "interference, _ = sf.read(f'./example_data/y{example_id}.wav')\n",
    "\n",
    "mixture = soi + interference"
   ]
  },
  {
   "cell_type": "markdown",
   "metadata": {},
   "source": [
    "VOLITELNÉ: **Přehrajte** nahrávku směsi"
   ]
  },
  {
   "cell_type": "code",
   "execution_count": 4,
   "metadata": {},
   "outputs": [],
   "source": [
    "sd.play(mixture.T[0], fs_s)\n",
    "sd.wait()"
   ]
  },
  {
   "cell_type": "markdown",
   "metadata": {},
   "source": [
    "**Zvolte požadovaný hybridní systém** dle označení modelu:"
   ]
  },
  {
   "cell_type": "code",
   "execution_count": 5,
   "metadata": {},
   "outputs": [],
   "source": [
    "# hybrid_system = HybridSystem_IPD17(model_path=\"./models/ipd17_model.pt\")\n",
    "# hybrid_system = HybridSystem_IPD35(model_path=\"./models/ipd35_model.pt\")\n",
    "# hybrid_system = HybridSystem_IPD14_IPD17(model_path=\"./models/ipd14_ipd17_model.pt\")\n",
    "# hybrid_system = HybridSystem_IPD14_IPD17_IPD35(model_path=\"./models/ipd14_ipd17_ipd35_model.pt\")\n",
    "# hybrid_system = HybridSystem_ILD17(model_path=\"./models/ild17_model.pt\")\n",
    "# hybrid_system = HybridSystem_ILD35(model_path=\"./models/ild35_model.pt\")\n",
    "# hybrid_system = HybridSystem_ILD14_ILD17(model_path=\"./models/ild14_ild17_model.pt\")\n",
    "# hybrid_system = HybridSystem_ILD14_ILD17_ILD35(model_path=\"./models/ild14_ild17_ild35_model.pt\")\n",
    "hybrid_system = HybridSystem_IPD17_ILD17(model_path=\"./models/ipd17_ild17_model.pt\")"
   ]
  },
  {
   "cell_type": "markdown",
   "metadata": {},
   "source": [
    "### Extrakce nahrávky za pomoci navrhované metody\n",
    "Ukázka fungování systému, kdy extrakce probíhá pouze ze smíchané nahrávky na základě modelu CNN odhadujícího vhodný pilotní signál.\n",
    "Vstupem je zarušená nahrávka v časové oblasti a výstupem je nahrávka s extrahovaným signálem hlavního mluvčího v časové oblasti."
   ]
  },
  {
   "cell_type": "markdown",
   "metadata": {},
   "source": [
    "**Spusťte extrakci** hlavního řečníka:"
   ]
  },
  {
   "cell_type": "code",
   "execution_count": 6,
   "metadata": {},
   "outputs": [],
   "source": [
    "extracted_soi = hybrid_system.extract_main_speaker(mixture)"
   ]
  },
  {
   "cell_type": "markdown",
   "metadata": {},
   "source": [
    "VOLITELNÉ: **Přehrajte** extrahovaný signál:"
   ]
  },
  {
   "cell_type": "code",
   "execution_count": 7,
   "metadata": {},
   "outputs": [],
   "source": [
    "sd.play(extracted_soi.T, fs_s)\n",
    "sd.wait()"
   ]
  },
  {
   "cell_type": "markdown",
   "metadata": {},
   "source": [
    "### Vyhodnocení extrakce nahrávky za pomoci navrhované metody\n",
    "Ukázka vyhodnocení fungování systému, kdy je poskytnuta směs signálu i oddělené složky (soi a interference) a je vypsán původní poměr SIR, poměr SIR extrahovaného signálu a hodnota zlepšení SIR."
   ]
  },
  {
   "cell_type": "markdown",
   "metadata": {},
   "source": [
    "**Spusťte buňku** pro provedení extrakce a výpis hodnot SIR původního a extrahovaného signálu."
   ]
  },
  {
   "cell_type": "code",
   "execution_count": 8,
   "metadata": {},
   "outputs": [
    {
     "name": "stdout",
     "output_type": "stream",
     "text": [
      "Původní hodnota SIR směsi: 0.48 dB\n",
      "Hodnota SIR po extrakci: 6.45 dB\n",
      "------------------------------------------------\n",
      "Zlepšení SIR díky extrakci: 5.97 dB\n"
     ]
    }
   ],
   "source": [
    "SIR_original, SIR_final, SIR_improvement = hybrid_system.evaluate_extraction_of_main_speaker(mixture, soi, interference)\n",
    "\n",
    "print(f\"Původní hodnota SIR směsi: {SIR_original:.2f} dB\")\n",
    "print(f\"Hodnota SIR po extrakci: {SIR_final:.2f} dB\")\n",
    "print(\"------------------------------------------------\")\n",
    "print(f\"Zlepšení SIR díky extrakci: {SIR_improvement:.2f} dB\")"
   ]
  },
  {
   "cell_type": "code",
   "execution_count": null,
   "metadata": {},
   "outputs": [],
   "source": []
  }
 ],
 "metadata": {
  "kernelspec": {
   "display_name": "bpenv",
   "language": "python",
   "name": "python3"
  },
  "language_info": {
   "codemirror_mode": {
    "name": "ipython",
    "version": 3
   },
   "file_extension": ".py",
   "mimetype": "text/x-python",
   "name": "python",
   "nbconvert_exporter": "python",
   "pygments_lexer": "ipython3",
   "version": "3.12.4"
  }
 },
 "nbformat": 4,
 "nbformat_minor": 2
}
